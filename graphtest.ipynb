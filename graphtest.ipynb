{
 "cells": [
  {
   "cell_type": "code",
   "execution_count": 1,
   "id": "dfc4a081",
   "metadata": {},
   "outputs": [],
   "source": [
    "import networkx as nx\n",
    "import random\n",
    "from hollow import *\n",
    "from fib import *\n",
    "import numpy as np\n",
    "import heapq\n",
    "def DijkstraTest():\n",
    "    import time\n",
    "    \n",
    "    G = nx.gnp_random_graph(100, 2 * np.log(n)/n , seed=0, directed=True)\n",
    "    for (u, v) in G.edges():\n",
    "        G.edges[u, v]['weight'] = random.random()\n",
    "    u = random.randint(0, 99)\n",
    "    v = random.randint(0, 99)\n",
    "\n",
    "    heap = HollowHeap()\n",
    "    h = []\n",
    "    heapq.heappush(h, (u, 0))\n",
    "    \n",
    "    distances = {}\n",
    "    distances[u] = 0\n",
    "    \n",
    "    adj = dict(G.adjacency())\n",
    "    \n",
    "    t = time.process_time()\n",
    "    \n",
    "    while h != None:\n",
    "        n = h[0][0]\n",
    "        d = h[0][1]\n",
    "        if n == v:\n",
    "            print(\"found v with distance\", d)\n",
    "            break\n",
    "        heapq.heappop(h)\n",
    "        \n",
    "        #edges = list(G.edges(n))\n",
    "        for e in adj[n].keys():\n",
    "            newd = d + adj[n][e]['weight']\n",
    "            if e not in distances or newd < distances[e]:\n",
    "                distances[e] = newd\n",
    "                #h = heap.insert(e[1], newd, h)\n",
    "                heapq.heappush(h, (e, newd))\n",
    "    t1 = time.process_time()\n",
    "    return t1 - t"
   ]
  },
  {
   "cell_type": "code",
   "execution_count": 2,
   "id": "1b1a3f6c",
   "metadata": {},
   "outputs": [],
   "source": [
    "import networkx as nx\n",
    "import random\n",
    "from hollow import *\n",
    "from fib import *\n",
    "import heapq\n",
    "def DijkstraTestHollow(a):\n",
    "    import time\n",
    "    \n",
    "    G = nx.gnp_random_graph(a, np.log(a)/a , seed=0, directed=True)\n",
    "    for (u, v) in G.edges():\n",
    "        G.edges[u, v]['weight'] = random.random()\n",
    "        \n",
    "    times = 0\n",
    "    for j in range(5):\n",
    "        u = random.randint(0, a - 1)\n",
    "        v = random.randint(0, a - 1)\n",
    "\n",
    "        heap = HollowHeap()\n",
    "        h = None\n",
    "        #heapq.heappush(h, (u, 0))\n",
    "        h = heap.insert(u, 0, h)\n",
    "\n",
    "        distances = {}\n",
    "        distances[u] = 0\n",
    "\n",
    "        adj = dict(G.adjacency())\n",
    "        t = time.process_time()\n",
    "\n",
    "        while h != None:\n",
    "            n = h.key\n",
    "            d = h.value\n",
    "            if n == v:\n",
    "                break\n",
    "            #heapq.heappop(h)\n",
    "            h = heap.deleteMin(h)\n",
    "\n",
    "            #edges = list(G.edges(n))\n",
    "            for e in adj[n].keys():\n",
    "                newd = d + adj[n][e]['weight']\n",
    "                if e in distances and newd < distances[e]:\n",
    "                    h = heap.decKey(e, newd, h)\n",
    "                if e not in distances:\n",
    "                    distances[e] = newd\n",
    "                    #heapq.heappush(h, (e, newd))\n",
    "                    h = heap.insert(e, newd, h)\n",
    "\n",
    "\n",
    "        t1 = time.process_time()\n",
    "        times += t1 - t\n",
    "    return times / 5"
   ]
  },
  {
   "cell_type": "code",
   "execution_count": 3,
   "id": "f5674dfc",
   "metadata": {},
   "outputs": [],
   "source": [
    "import networkx as nx\n",
    "import random\n",
    "from hollow import *\n",
    "from fib import *\n",
    "import heapq\n",
    "def DijkstraTestFib(a):\n",
    "    \n",
    "    import time\n",
    "    \n",
    "    G = nx.gnp_random_graph(a, np.log(a)/a , seed=0, directed=True)\n",
    "    for (u, v) in G.edges():\n",
    "        G.edges[u, v]['weight'] = random.random()\n",
    "        \n",
    "    times = 0\n",
    "    \n",
    "    for j in range(5):\n",
    "        u = random.randint(0, a - 1)\n",
    "        v = random.randint(0, a - 1)\n",
    "\n",
    "        heap = FibonacciHeap()\n",
    "        h = heap.insert(0)\n",
    "        distancestonodes = {}\n",
    "        distancestonodes[0] = h\n",
    "        h.value = u\n",
    "\n",
    "        distances = {}\n",
    "        distances[u] = 0\n",
    "\n",
    "        adj = dict(G.adjacency())\n",
    "        t = time.process_time()\n",
    "\n",
    "        while heap.min != None:\n",
    "            d = heap.min.key\n",
    "            n = distancestonodes[d].value\n",
    "            if n == v:\n",
    "                break\n",
    "            heap.extract_minimum()\n",
    "\n",
    "            for e in adj[n].keys():\n",
    "                newd = d + adj[n][e]['weight']\n",
    "                if e in distances and newd < distances[e]:\n",
    "                    heap.decrease_key(distancestonodes[distances[e]], newd)\n",
    "                    distancestonodes[newd] = distancestonodes[distances[e]]\n",
    "                if e not in distances:\n",
    "                    distances[e] = newd\n",
    "                    h = heap.insert(newd)\n",
    "                    distancestonodes[newd] = h\n",
    "                    h.value = e\n",
    "\n",
    "\n",
    "        t1 = time.process_time()\n",
    "        times += t1 - t\n",
    "    return times / 5"
   ]
  },
  {
   "cell_type": "code",
   "execution_count": 4,
   "id": "b39bbe8d",
   "metadata": {},
   "outputs": [],
   "source": [
    "import networkx as nx\n",
    "import random\n",
    "from hollow import *\n",
    "from binom import *\n",
    "import heapq\n",
    "def DijkstraTestBinom(a):\n",
    "    \n",
    "    import time\n",
    "    \n",
    "    G = nx.gnp_random_graph(a, np.log(a)/a , seed=0, directed=True)\n",
    "    for (u, v) in G.edges():\n",
    "        G.edges[u, v]['weight'] = random.random()\n",
    "        \n",
    "    times = 0\n",
    "    \n",
    "    for j in range(5):\n",
    "        u = random.randint(0, a - 1)\n",
    "        v = random.randint(0, a - 1)\n",
    "\n",
    "        heap = BinomialHeap()\n",
    "        h = heap.insert(0)\n",
    "        distancestonodes = {}\n",
    "        distancestonodes[0] = h\n",
    "        h.value = u\n",
    "\n",
    "        distances = {}\n",
    "        distances[u] = 0\n",
    "\n",
    "        adj = dict(G.adjacency())\n",
    "        t = time.process_time()\n",
    "\n",
    "        while heap.get_min() != None:\n",
    "            d = heap.get_min()\n",
    "            n = distancestonodes[d].value\n",
    "            if n == v:\n",
    "                break\n",
    "            heap.del_min()\n",
    "\n",
    "            for e in adj[n].keys():\n",
    "                newd = d + adj[n][e]['weight']\n",
    "                if e in distances and newd < distances[e]:\n",
    "                    heap.dec_key(distancestonodes[distances[e]], newd)\n",
    "                    distancestonodes[newd] = distancestonodes[distances[e]]\n",
    "                if e not in distances:\n",
    "                    distances[e] = newd\n",
    "                    h = heap.insert(newd)\n",
    "                    distancestonodes[newd] = h\n",
    "                    h.value = e\n",
    "\n",
    "\n",
    "        t1 = time.process_time()\n",
    "        times += t1 - t\n",
    "    return times / 5"
   ]
  },
  {
   "cell_type": "code",
   "execution_count": 5,
   "id": "e07c68c3",
   "metadata": {},
   "outputs": [
    {
     "data": {
      "text/plain": [
       "0.0005846669999999499"
      ]
     },
     "execution_count": 5,
     "metadata": {},
     "output_type": "execute_result"
    }
   ],
   "source": [
    "DijkstraTestHollow(100)"
   ]
  },
  {
   "cell_type": "code",
   "execution_count": 6,
   "id": "84cc6f87",
   "metadata": {},
   "outputs": [
    {
     "data": {
      "text/plain": [
       "0.00039848439999996544"
      ]
     },
     "execution_count": 6,
     "metadata": {},
     "output_type": "execute_result"
    }
   ],
   "source": [
    "DijkstraTestFib(50)"
   ]
  },
  {
   "cell_type": "code",
   "execution_count": 7,
   "id": "29b8a321",
   "metadata": {},
   "outputs": [
    {
     "data": {
      "text/plain": [
       "0.00098228580000006"
      ]
     },
     "execution_count": 7,
     "metadata": {},
     "output_type": "execute_result"
    }
   ],
   "source": [
    "DijkstraTestBinom(100)"
   ]
  },
  {
   "cell_type": "code",
   "execution_count": 9,
   "id": "2655510f",
   "metadata": {},
   "outputs": [
    {
     "name": "stdout",
     "output_type": "stream",
     "text": [
      "0\n",
      "100\n",
      "200\n",
      "300\n",
      "400\n",
      "500\n",
      "600\n",
      "700\n",
      "800\n",
      "900\n"
     ]
    },
    {
     "data": {
      "text/plain": [
       "Text(0, 0.5, 'Runtime (s)')"
      ]
     },
     "execution_count": 9,
     "metadata": {},
     "output_type": "execute_result"
    },
    {
     "data": {
      "image/png": "[encoded data removed]",
      "text/plain": [
       "<Figure size 640x480 with 1 Axes>"
      ]
     },
     "metadata": {},
     "output_type": "display_data"
    }
   ],
   "source": [
    "import matplotlib.pyplot as plt\n",
    "import numpy as np\n",
    "x = []\n",
    "fib = []\n",
    "hollow = []\n",
    "binom = []\n",
    "\n",
    "for i in range(0, 1000, 5):\n",
    "    if i % 100 == 0:\n",
    "        print(i)\n",
    "    n = i + 3\n",
    "    x.append(np.log(n))\n",
    "    #print(\"testing fib\")\n",
    "    fib.append(DijkstraTestFib(n))\n",
    "    #print(\"testing hollow\")\n",
    "    hollow.append(DijkstraTestHollow(n))\n",
    "    #print(\"testing binom\")\n",
    "    binom.append(DijkstraTestBinom(n))\n",
    "    \n",
    "plt.plot(x,\\\n",
    "         fib, label='Fib')\n",
    "plt.plot(x,\\\n",
    "         binom, label='Binom')\n",
    "\n",
    "plt.title('Average Dijkstra Runtime')\n",
    "plt.plot(x,\\\n",
    "         hollow, label='Hollow')\n",
    "\n",
    "plt.legend()\n",
    "plt.xlabel('Log Size of Graph Nodes')\n",
    "plt.ylabel('Runtime (s)')"
   ]
  },
  {
   "cell_type": "code",
   "execution_count": null,
   "id": "1715c2bb",
   "metadata": {},
   "outputs": [],
   "source": []
  }
 ],
 "metadata": {
  "kernelspec": {
   "display_name": "Python 3 (ipykernel)",
   "language": "python",
   "name": "python3"
  },
  "language_info": {
   "codemirror_mode": {
    "name": "ipython",
    "version": 3
   },
   "file_extension": ".py",
   "mimetype": "text/x-python",
   "name": "python",
   "nbconvert_exporter": "python",
   "pygments_lexer": "ipython3",
   "version": "3.11.3"
  }
 },
 "nbformat": 4,
 "nbformat_minor": 5
}
