{
 "cells": [
  {
   "cell_type": "code",
   "execution_count": 154,
   "id": "c427d3b0",
   "metadata": {},
   "outputs": [],
   "source": [
    "import networkx as nx\n",
    "import random\n",
    "from hollow import *\n",
    "from fib import *\n",
    "import numpy as np\n",
    "import heapq\n",
    "def DijkstraTest():\n",
    "    import time\n",
    "    \n",
    "    G = nx.gnp_random_graph(100, 2 * np.log(n)/n , seed=0, directed=True)\n",
    "    for (u, v) in G.edges():\n",
    "        G.edges[u, v]['weight'] = random.random()\n",
    "    u = random.randint(0, 99)\n",
    "    v = random.randint(0, 99)\n",
    "\n",
    "    heap = HollowHeap()\n",
    "    h = []\n",
    "    heapq.heappush(h, (u, 0))\n",
    "    \n",
    "    distances = {}\n",
    "    distances[u] = 0\n",
    "    \n",
    "    adj = dict(G.adjacency())\n",
    "    \n",
    "    t = time.process_time()\n",
    "    \n",
    "    while h != None:\n",
    "        n = h[0][0]\n",
    "        d = h[0][1]\n",
    "        if n == v:\n",
    "            print(\"found v with distance\", d)\n",
    "            break\n",
    "        heapq.heappop(h)\n",
    "        \n",
    "        #edges = list(G.edges(n))\n",
    "        for e in adj[n].keys():\n",
    "            newd = d + adj[n][e]['weight']\n",
    "            if e not in distances or newd < distances[e]:\n",
    "                distances[e] = newd\n",
    "                #h = heap.insert(e[1], newd, h)\n",
    "                heapq.heappush(h, (e, newd))\n",
    "    t1 = time.process_time()\n",
    "    return t1 - t"
   ]
  },
  {
   "cell_type": "code",
   "execution_count": 187,
   "id": "2401c161",
   "metadata": {},
   "outputs": [],
   "source": [
    "import networkx as nx\n",
    "import random\n",
    "from hollow import *\n",
    "from fib import *\n",
    "import heapq\n",
    "def DijkstraTestHollow(n):\n",
    "    import time\n",
    "    \n",
    "    G = nx.gnp_random_graph(n, np.log(n)/n , seed=0, directed=True)\n",
    "    for (u, v) in G.edges():\n",
    "        G.edges[u, v]['weight'] = random.random()\n",
    "        \n",
    "    times = 0\n",
    "    for j in range(5):\n",
    "        u = random.randint(0, 99)\n",
    "        v = random.randint(0, 99)\n",
    "\n",
    "        heap = HollowHeap()\n",
    "        h = None\n",
    "        #heapq.heappush(h, (u, 0))\n",
    "        h = heap.insert(u, 0, h)\n",
    "\n",
    "        distances = {}\n",
    "        distances[u] = 0\n",
    "\n",
    "        adj = dict(G.adjacency())\n",
    "        print(\"starting!\")\n",
    "        t = time.process_time()\n",
    "\n",
    "        while h != None:\n",
    "            n = h.key\n",
    "            d = h.value\n",
    "            if n == v:\n",
    "                print(\"found v with distance\", d)\n",
    "                break\n",
    "            #heapq.heappop(h)\n",
    "            h = heap.deleteMin(h)\n",
    "\n",
    "            #edges = list(G.edges(n))\n",
    "            for e in adj[n].keys():\n",
    "                newd = d + adj[n][e]['weight']\n",
    "                if e in distances and newd < distances[e]:\n",
    "                    h = heap.decKey(e, newd, h)\n",
    "                if e not in distances:\n",
    "                    distances[e] = newd\n",
    "                    #heapq.heappush(h, (e, newd))\n",
    "                    h = heap.insert(e, newd, h)\n",
    "\n",
    "\n",
    "        t1 = time.process_time()\n",
    "        times += t1 - t\n",
    "    return times / 5"
   ]
  },
  {
   "cell_type": "code",
   "execution_count": 188,
   "id": "5dbbb206",
   "metadata": {},
   "outputs": [],
   "source": [
    "import networkx as nx\n",
    "import random\n",
    "from hollow import *\n",
    "from fib import *\n",
    "import heapq\n",
    "def DijkstraTestFib(n):\n",
    "    \n",
    "    import time\n",
    "    \n",
    "    G = nx.gnp_random_graph(n, np.log(n)/n , seed=0, directed=True)\n",
    "    for (u, v) in G.edges():\n",
    "        G.edges[u, v]['weight'] = random.random()\n",
    "        \n",
    "    times = 0\n",
    "    \n",
    "    for j in range(5):\n",
    "        u = random.randint(0, 99)\n",
    "        v = random.randint(0, 99)\n",
    "\n",
    "        heap = FibonacciHeap()\n",
    "        h = heap.insert(0)\n",
    "        distancestonodes = {}\n",
    "        distancestonodes[0] = h\n",
    "        h.value = u\n",
    "\n",
    "        distances = {}\n",
    "        distances[u] = 0\n",
    "\n",
    "        adj = dict(G.adjacency())\n",
    "        print(\"starting!\")\n",
    "        t = time.process_time()\n",
    "\n",
    "        while h != None:\n",
    "            d = heap.min.key\n",
    "            n = distancestonodes[d].value\n",
    "            if n == v:\n",
    "                print(\"found v with distance\", d)\n",
    "                break\n",
    "            heap.extract_minimum()\n",
    "\n",
    "            for e in adj[n].keys():\n",
    "                newd = d + adj[n][e]['weight']\n",
    "                if e in distances and newd < distances[e]:\n",
    "                    heap.decrease_key(distancestonodes[distances[e]], newd)\n",
    "                    distancestonodes[newd] = distancestonodes[distances[e]]\n",
    "                if e not in distances:\n",
    "                    distances[e] = newd\n",
    "                    h = heap.insert(newd)\n",
    "                    distancestonodes[newd] = h\n",
    "                    h.value = e\n",
    "\n",
    "\n",
    "        t1 = time.process_time()\n",
    "        times += t1 - t\n",
    "    return times / 5"
   ]
  },
  {
   "cell_type": "code",
   "execution_count": 189,
   "id": "324345ec",
   "metadata": {},
   "outputs": [
    {
     "name": "stdout",
     "output_type": "stream",
     "text": [
      "initiated\n",
      "starting!\n",
      "found v with distance 14.384231458498075\n",
      "initiated\n",
      "starting!\n",
      "found v with distance 2.827157352190083\n",
      "initiated\n",
      "starting!\n",
      "found v with distance 13.407686593579072\n",
      "initiated\n",
      "starting!\n",
      "found v with distance 13.127870370868107\n",
      "initiated\n",
      "starting!\n",
      "found v with distance 2.9119678414058385\n"
     ]
    },
    {
     "data": {
      "text/plain": [
       "0.0051382478000022045"
      ]
     },
     "execution_count": 189,
     "metadata": {},
     "output_type": "execute_result"
    }
   ],
   "source": [
    "DijkstraTestHollow(10000)"
   ]
  },
  {
   "cell_type": "code",
   "execution_count": 186,
   "id": "c9f8fc06",
   "metadata": {},
   "outputs": [
    {
     "name": "stdout",
     "output_type": "stream",
     "text": [
      "starting!\n",
      "found v with distance 0.995249811895701\n"
     ]
    },
    {
     "data": {
      "text/plain": [
       "0.12502654400000068"
      ]
     },
     "execution_count": 186,
     "metadata": {},
     "output_type": "execute_result"
    }
   ],
   "source": [
    "DijkstraTestFib(10000)"
   ]
  },
  {
   "cell_type": "code",
   "execution_count": null,
   "id": "fc42592b",
   "metadata": {},
   "outputs": [],
   "source": []
  }
 ],
 "metadata": {
  "kernelspec": {
   "display_name": "Python 3 (ipykernel)",
   "language": "python",
   "name": "python3"
  },
  "language_info": {
   "codemirror_mode": {
    "name": "ipython",
    "version": 3
   },
   "file_extension": ".py",
   "mimetype": "text/x-python",
   "name": "python",
   "nbconvert_exporter": "python",
   "pygments_lexer": "ipython3",
   "version": "3.11.3"
  }
 },
 "nbformat": 4,
 "nbformat_minor": 5
}
